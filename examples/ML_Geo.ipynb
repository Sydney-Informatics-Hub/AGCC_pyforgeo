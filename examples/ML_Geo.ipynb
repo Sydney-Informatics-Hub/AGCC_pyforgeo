{
 "cells": [
  {
   "cell_type": "markdown",
   "metadata": {},
   "source": [
    "# Data Science for Geoscience\n",
    "\n",
    "Let's use some standard Machine Learning tools available in Python packages to analyse some data.\n",
    "\n",
    "We have a dataset (from Butterworth et al 2016) with a collection of tectonomagmatic parameters associated with the time and location of porphyry copper deposits. We want to determine which of these (if any) parameters are geologically important (or at least statistically significant) in relation to the formation of porphyry coppers.\n",
    "\n",
    "Run the next cell to see an animation representing this data\n"
   ]
  },
  {
   "cell_type": "code",
   "execution_count": null,
   "metadata": {},
   "outputs": [],
   "source": [
    "from IPython.display import Image\n",
    "Image(filename=\"../data/MullerConvergenceSmall.gif\")"
   ]
  },
  {
   "cell_type": "markdown",
   "metadata": {},
   "source": [
    "### Now, import most of the modules we need\n",
    "By convention module loads go at the top of your workflows."
   ]
  },
  {
   "cell_type": "code",
   "execution_count": null,
   "metadata": {},
   "outputs": [],
   "source": [
    "import pandas #For dealing with data structures\n",
    "import numpy as np #Data array manipulation\n",
    "import scipy #Scientific Python, has lots of useful tools\n",
    "import scipy.io #A specific sub-module for input/output of sci data\n",
    "\n",
    "#scikit-learn tools to perform machine learning classification\n",
    "from sklearn import cross_validation\n",
    "from sklearn.svm import SVC\n",
    "from sklearn.ensemble import RandomForestClassifier\n",
    "from sklearn import preprocessing\n",
    "\n",
    "#For making pretty figures\n",
    "import matplotlib.pyplot as plt \n",
    "\n",
    "#For easy geographic projections on a map\n",
    "from mpl_toolkits.basemap import Basemap\n",
    "\n",
    "#Import a set of tools we have made ourselves\n",
    "from Utils_coreg import *"
   ]
  },
  {
   "cell_type": "markdown",
   "metadata": {},
   "source": [
    "### Now load in the data"
   ]
  },
  {
   "cell_type": "code",
   "execution_count": null,
   "metadata": {
    "collapsed": true
   },
   "outputs": [],
   "source": [
    "#Use pandas to load in the machine learning dataset\n",
    "ml_data=pandas.read_csv(\"../data/ml_data_points.csv\",index_col=0)"
   ]
  },
  {
   "cell_type": "code",
   "execution_count": null,
   "metadata": {},
   "outputs": [],
   "source": [
    "#Print out the dataset so we can see what it looks like\n",
    "ml_data"
   ]
  },
  {
   "cell_type": "markdown",
   "metadata": {},
   "source": [
    "There are 21 columns (python (usually) counts from 0) representing different parameters. Some of these parameters may be useful for us. Some are not. The final column contains a binary flag representing whether there is a known porphyry copper deposit at that location or not. The \"non-deposits\" are required to train our Machine Learning classifier what a porphyry deposit looks like, and also, what a porphyry deposit doesn't look like!\n",
    "\n",
    "### Now let's perform our machine learning binary classification."
   ]
  },
  {
   "cell_type": "code",
   "execution_count": null,
   "metadata": {},
   "outputs": [],
   "source": [
    "#Change data format to numpy array for easy manipulation\n",
    "ml_data_np=ml_data.values\n",
    "\n",
    "#Set the indices of the parameters (features) to include in the ML\n",
    "#params=[0,1,2,3,4,5,6,7,8,9,10,11,12,13,14,15,16,17,18,19,20]\n",
    "# Alternatively try any 4 features you'd like to include!\n",
    "params=[6,9,14,17] \n",
    "\n",
    "\n",
    "#Save the number of parameters we have chosen\n",
    "datalength=len(params)\n",
    "\n",
    "#Normalise the data for Machine Learning\n",
    "ml_data_norm=preprocessing.scale(ml_data_np[:,params])\n",
    "\n",
    "#Create a 'feature vector' and a 'target classification vector'\n",
    "features=ml_data_norm\n",
    "targets=ml_data_np[:,20]\n",
    "\n",
    "#Print out some info about our final dataset\n",
    "print(\"Shape of ML data array: \", ml_data_norm.shape)\n",
    "print(\"Positive (deposits) examples: \",np.shape(ml_data_np[ml_data_np[:,20]==1,:]))\n",
    "print(\"Negative (non-deposits) examples: \",np.shape(ml_data_np[ml_data_np[:,20]==0,:]))"
   ]
  },
  {
   "cell_type": "code",
   "execution_count": null,
   "metadata": {},
   "outputs": [],
   "source": [
    "print('Make the classifiers')\n",
    "\n",
    "print('Random Forest...')\n",
    "#create and train the random forest\n",
    "#multi-core CPUs can use: rf = RandomForestClassifier(n_estimators=100, n_jobs=2)\n",
    "#n_estimators use between 64-128 doi: 10.1007/978-3-642-31537-4_13\n",
    "rf = RandomForestClassifier(n_estimators=128, n_jobs=1,class_weight=None)\n",
    "rf.fit(features,targets)\n",
    "print(\"Done RF\")\n",
    "\n",
    "scores = cross_validation.cross_val_score(rf, features,targets, cv=10)\n",
    "print(\"RF Scores: \",scores)\n",
    "print(\"SCORE Mean: %.2f\" % np.mean(scores), \"STD: %.2f\" % np.std(scores), \"\\n\")\n",
    "\n",
    "print(\"Targets (expected result):\")\n",
    "print(targets)\n",
    "\n",
    "print(\"Prediction (actual result):\")\n",
    "print(rf.predict(features))"
   ]
  },
  {
   "cell_type": "code",
   "execution_count": null,
   "metadata": {},
   "outputs": [],
   "source": [
    "#Make a list of labels for our chosen features\n",
    "paramColumns=np.array(ml_data.columns)\n",
    "paramLabels=paramColumns[params].tolist()\n",
    "\n",
    "#Create a new figure\n",
    "fig, ax = plt.subplots()\n",
    "\n",
    "#Plot the bar graph\n",
    "rects=ax.bar(np.arange(0, datalength, step=1),rf.feature_importances_)\n",
    "\n",
    "#Label the axes\n",
    "ax.set_xticks(np.arange(0, datalength, step=1))\n",
    "ax.set_xticklabels(paramLabels,rotation=90)\n",
    "ax.set_ylabel('Feature Importance')\n",
    "\n",
    "#Print the feature importance to compare with plot\n",
    "np.set_printoptions(precision=3,suppress=True)\n",
    "print(\"Importance \\t Feature\")\n",
    "for i,label in enumerate(paramLabels):\n",
    "    print(\"%1.3f \\t\\t %s\" % (rf.feature_importances_[i],label))\n",
    "\n",
    "plt.show()\n"
   ]
  },
  {
   "cell_type": "markdown",
   "metadata": {},
   "source": [
    "Now if we can measure the tectonomagmatic properties at some point. Based on our trained classifer we can predict a probability that porphyry copper deposits have formed"
   ]
  },
  {
   "cell_type": "code",
   "execution_count": null,
   "metadata": {},
   "outputs": [],
   "source": [
    "#Apply the trained ML to our gridded data to determine the probabilities at each of the points\n",
    "print('RF...')\n",
    "pRF=np.array(rf.predict_proba(features))\n",
    "print(\"Done RF\")"
   ]
  },
  {
   "cell_type": "markdown",
   "metadata": {},
   "source": [
    "## Maps!"
   ]
  },
  {
   "cell_type": "code",
   "execution_count": null,
   "metadata": {},
   "outputs": [],
   "source": [
    "filename=\"../data/EarthByte_Zahirovic_etal_2016_ESR_r888_AgeGrid-0.nc\"\n",
    "data = scipy.io.netcdf.netcdf_file(filename,'r')\n",
    "data.variables"
   ]
  },
  {
   "cell_type": "code",
   "execution_count": null,
   "metadata": {},
   "outputs": [],
   "source": [
    "varX=data.variables['lon'][:]\n",
    "varY=data.variables['lat'][:]\n",
    "varZ=np.array(data.variables['z'][:])\n",
    "data.close()"
   ]
  },
  {
   "cell_type": "code",
   "execution_count": null,
   "metadata": {},
   "outputs": [],
   "source": [
    "#Make a figure object\n",
    "plt.figure()\n",
    "\n",
    "#Get the axes of the current figure, for manipulation\n",
    "ax = plt.gca()\n",
    "\n",
    "#Create a colormap from a predefined function\n",
    "age_cmap=colormap_age()\n",
    "\n",
    "#Put down the main dataset\n",
    "im=ax.imshow(varZ,vmin=0,vmax=200,extent=[0,360,-90,90],origin='lower',aspect=1,cmap=age_cmap)\n",
    "\n",
    "#Make a colorbar\n",
    "cbar=plt.colorbar(im,fraction=0.025,pad=0.05,ticks=[0, 150],extend='max')\n",
    "cbar.set_label('Age (Ma)', rotation=0)\n",
    "\n",
    "#Clean up the default axis ticks\n",
    "plt.yticks([-90,-45,0,45,90])\n",
    "plt.xticks([0,90,180,270,360])\n",
    "\n",
    "#Put labels on the figure\n",
    "ax.set_xlabel('Longitude')\n",
    "ax.set_ylabel('Latitude')\n",
    "\n",
    "#Put a title on it\n",
    "plt.title(\"Global Seafloor Age Grid \\n (Zahirovic et al. 2016)\")\n",
    "\n",
    "plt.show()"
   ]
  },
  {
   "cell_type": "markdown",
   "metadata": {
    "collapsed": true
   },
   "source": [
    "### For loops plotting shapefiles"
   ]
  },
  {
   "cell_type": "code",
   "execution_count": null,
   "metadata": {},
   "outputs": [],
   "source": [
    "#Load in plate polygons for plotting\n",
    "topologyFile='../data/topology_platepolygons_0.00Ma.shp'\n",
    "[recs,shapes,fields,Nshp]=readTopologyPlatepolygonFile(topologyFile)\n",
    "for i, nshp in enumerate(range(Nshp)):\n",
    "    #if nshp!=35 and nshp!=36 and nshp!=23:\n",
    "    #These are the plates that cross the dateline and cause \n",
    "        #banding errors\n",
    "        polygonShape=shapes[nshp].points\n",
    "        poly=np.array(polygonShape)\n",
    "        plt.plot(poly[:,0], poly[:,1], c='k',zorder=1)\n",
    "        \n",
    "plt.show()"
   ]
  },
  {
   "cell_type": "code",
   "execution_count": null,
   "metadata": {},
   "outputs": [],
   "source": [
    "filename=\"../data/topodata.nc\"\n",
    "data = scipy.io.netcdf.netcdf_file(filename,'r')\n",
    "\n",
    "data.variables"
   ]
  },
  {
   "cell_type": "code",
   "execution_count": null,
   "metadata": {},
   "outputs": [],
   "source": [
    "topoX=data.variables['X'][:]\n",
    "topoY=data.variables['Y'][:]\n",
    "topoZ=np.array(data.variables['elev'][:])\n",
    "data.close()"
   ]
  },
  {
   "cell_type": "markdown",
   "metadata": {},
   "source": [
    "### Make a prettier map"
   ]
  },
  {
   "cell_type": "code",
   "execution_count": null,
   "metadata": {},
   "outputs": [],
   "source": [
    "#Make the base figure\n",
    "fig = plt.figure(figsize=(8,6),dpi=300)\n",
    "pmap=Basemap(projection='merc',llcrnrlat=-55,urcrnrlat=10,\\\n",
    "            llcrnrlon=-85,urcrnrlon=-30,lat_ts=0,resolution='c')\n",
    "\n",
    "pmap.drawmapboundary(fill_color='white')\n",
    "#pmap.fillcontinents(color='grey', lake_color='white', zorder=0)\n",
    "pmap.drawmeridians(np.arange(0, 360, 20),labels=[0,0,0,1],fontsize=6,color='white')\n",
    "pmap.drawparallels(np.arange(-90, 90, 10),labels=[1,0,0,0],fontsize=6,color='white')\n",
    "\n",
    "#Plot a background topography map\n",
    "lons=topoX\n",
    "lats=topoY\n",
    "lons, lats = np.meshgrid(lons,lats)\n",
    "im1 = pmap.pcolormesh(lons,lats,topoZ,shading='flat',cmap=plt.cm.gist_earth,latlon=True)\n",
    "cb = pmap.colorbar(im1,\"right\", size=\"5%\", pad=\"2%\",extend='both',ticks=[-2000,0,2000])\n",
    "plt.clim(-5000,4000)\n",
    "cb.set_label('Height (m)',labelpad=-25)\n",
    "\n",
    "#Plot a background Agegrid map (on top of topo)\n",
    "lons=varX\n",
    "lats=varY\n",
    "lons, lats = np.meshgrid(lons,lats)\n",
    "#Make the NaNs clear\n",
    "intensity = np.ma.masked_where(np.isnan(varZ), varZ)\n",
    "im1 = pmap.pcolormesh(lons,lats,intensity,shading='flat',cmap=age_cmap,latlon=True)\n",
    "cb = pmap.colorbar(im1,\"right\", size=\"5%\", pad=\"60%\",extend='max',ticks=[0,200])\n",
    "plt.clim(0,200)\n",
    "cb.set_label('Age (Ma)',labelpad=-20)\n",
    "\n",
    "\n",
    "#Load in plate polygons for plotting\n",
    "topologyFile='../data/topology_platepolygons_0.00Ma.shp'\n",
    "[recs,shapes,fields,Nshp]=readTopologyPlatepolygonFile(topologyFile)\n",
    "for i, nshp in enumerate(range(Nshp)):\n",
    "    if nshp!=35 and nshp!=36 and nshp!=23:\n",
    "    #These are the plates that cross the dateline and cause \n",
    "        #banding errors\n",
    "        polygonShape=shapes[nshp].points\n",
    "        poly=np.array(polygonShape)\n",
    "        xh, yh = pmap(poly[:,0], poly[:,1])\n",
    "        plt.plot(xh, yh, c='w',zorder=1)\n",
    "\n",
    "\n",
    "#Plot the ore deposit Age\n",
    "# xh, yh = pmap(ml_data_np[ml_data_np[:,-1]==1,0],ml_data_np[ml_data_np[:,-1]==1,1])\n",
    "# l2 = pmap.scatter(xh, yh, 20, marker='.',c=ml_data_np[ml_data_np[:,-1]==1,4],cmap=plt.cm.hsv,zorder=3)\n",
    "# cbar=pmap.colorbar(l2,location='bottom',pad=\"5%\",ticks=[0,50,100,150],extend='max')\n",
    "# plt.clim(0,170)\n",
    "# cbar.set_label('Age of Deposit (Ma)')\n",
    "\n",
    "#Plot the ore deposit probability\n",
    "xh, yh = pmap(ml_data_np[ml_data_np[:,-1]==1,0],ml_data_np[ml_data_np[:,-1]==1,1])\n",
    "l2 = pmap.scatter(xh, yh, 20, marker='.',c=pRF[:147,1],cmap=plt.cm.copper,zorder=3)\n",
    "#l2 = pmap.scatter(xh, yh, 20, marker='.',edgecolor='dimgrey',linewidth=0.5,c=pRF[:147,1],cmap=plt.cm.copper,zorder=3)\n",
    "cbar=pmap.colorbar(l2,location='bottom',pad=\"5%\",ticks=[0,0.5,1])\n",
    "plt.clim(0,1)\n",
    "cbar.set_label('Prediction Probability (%)')\n",
    "\n",
    "   \n",
    "plt.show()"
   ]
  },
  {
   "cell_type": "markdown",
   "metadata": {
    "collapsed": true
   },
   "source": [
    "# Datasets"
   ]
  },
  {
   "cell_type": "raw",
   "metadata": {},
   "source": [
    "\n",
    "Topography/Bathymetry\n",
    "WORLDBATH: ETOPO5 5x5 minute Navy bathymetry. http://iridl.ldeo.columbia.edu/SOURCES/.NOAA/.NGDC/.ETOPO5/\n",
    "    \n",
    "ML dataset. \n",
    "Expanded in Butterworth et al 2016 from a compilation made by by Bertrand et al 2016. https://doi.org/10.1002/2016TC004289\n",
    "\n",
    "Shape files polygons: \n",
    "GPlates2.0. https://www.gplates.org/\n",
    "\n",
    "Age Grid\n",
    "Zahirovic etal 2016. ftp://ftp.earthbyte.org/Data_Collections/Zahirovic_etal_2016_ESR_AgeGrid/\n",
    "    "
   ]
  }
 ],
 "metadata": {
  "kernelspec": {
   "display_name": "Python 3",
   "language": "python",
   "name": "python3"
  },
  "language_info": {
   "codemirror_mode": {
    "name": "ipython",
    "version": 3
   },
   "file_extension": ".py",
   "mimetype": "text/x-python",
   "name": "python",
   "nbconvert_exporter": "python",
   "pygments_lexer": "ipython3",
   "version": "3.6.6"
  }
 },
 "nbformat": 4,
 "nbformat_minor": 2
}
