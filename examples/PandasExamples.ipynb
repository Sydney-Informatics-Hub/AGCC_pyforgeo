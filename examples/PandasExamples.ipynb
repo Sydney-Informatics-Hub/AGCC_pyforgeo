{
 "cells": [
  {
   "cell_type": "markdown",
   "metadata": {},
   "source": [
    "## Additional Examples\n",
    "Using pyshp (shapefile) and pandas\n",
    "\n",
    "Data is downloaded from http://www.bom.gov.au/water/groundwater/explorer/map.shtml"
   ]
  },
  {
   "cell_type": "code",
   "execution_count": null,
   "metadata": {},
   "outputs": [],
   "source": [
    "#Load the modules\n",
    "import shapefile"
   ]
  },
  {
   "cell_type": "code",
   "execution_count": null,
   "metadata": {},
   "outputs": [],
   "source": [
    "help(shapefile)"
   ]
  },
  {
   "cell_type": "code",
   "execution_count": null,
   "metadata": {},
   "outputs": [],
   "source": [
    "#Set the filename\n",
    "boreshape='../data/shp_torrens_river/NGIS_BoreLine.shp'\n",
    "\n",
    "#read in the file\n",
    "shapeRead = shapefile.Reader(boreshape)\n",
    "\n",
    "#And save out some of the shape file attributes\n",
    "recs    = shapeRead.records()\n",
    "shapes  = shapeRead.shapes()\n",
    "fields  = shapeRead.fields\n",
    "Nshp    = len(shapes)"
   ]
  },
  {
   "cell_type": "code",
   "execution_count": null,
   "metadata": {},
   "outputs": [],
   "source": [
    "print(Nshp) #print the Number of items in the shapefile"
   ]
  },
  {
   "cell_type": "code",
   "execution_count": null,
   "metadata": {},
   "outputs": [],
   "source": [
    "fields[:]#print the fields"
   ]
  },
  {
   "cell_type": "code",
   "execution_count": null,
   "metadata": {},
   "outputs": [],
   "source": [
    "recs[0] #print the first record, then this is a list that can be subscripted further"
   ]
  },
  {
   "cell_type": "code",
   "execution_count": null,
   "metadata": {},
   "outputs": [],
   "source": [
    "shapes[0].points #print the point values of the first shape"
   ]
  },
  {
   "cell_type": "markdown",
   "metadata": {},
   "source": [
    "Shapefiles are not a native python format, but the community have developed tools for exploring them. The package we have used \"pyshp\" imported with the name \"shapefile\" (for some non-consistent weird reason), is one example of working with shapefiles. Alternatives exist."
   ]
  },
  {
   "cell_type": "markdown",
   "metadata": {},
   "source": [
    "## More table manipulation"
   ]
  },
  {
   "cell_type": "code",
   "execution_count": null,
   "metadata": {},
   "outputs": [],
   "source": [
    "#Import the module\n",
    "import pandas"
   ]
  },
  {
   "cell_type": "code",
   "execution_count": null,
   "metadata": {},
   "outputs": [],
   "source": [
    "#read in the data\n",
    "log_data=pandas.read_csv(\"../data/shp_torrens_river/NGIS_LithologyLog.csv\",\\\n",
    "                         header=0,sep=',',skipinitialspace=True,quotechar ='\"',\\\n",
    "                         usecols=list(range(0,13)),\\\n",
    "                         skiprows=[453,456,458,460,689,697,720,723,726,839,880,884,885,890,898,934])\n",
    "\n",
    "#This data was weird because it has quotation marks to signify inches inside comments within the file, \n",
    "#making automatic reading of it tricky"
   ]
  },
  {
   "cell_type": "code",
   "execution_count": null,
   "metadata": {},
   "outputs": [],
   "source": [
    "log_data           # print the first 30 and last 30 rows"
   ]
  },
  {
   "cell_type": "code",
   "execution_count": null,
   "metadata": {},
   "outputs": [],
   "source": [
    "# add a new column as a function of existing columns\n",
    "log_data['Thickness'] = log_data.ToDepth - log_data.FromDepth"
   ]
  },
  {
   "cell_type": "code",
   "execution_count": null,
   "metadata": {},
   "outputs": [],
   "source": [
    "type(log_data)     # see what Python type the DataFrame is"
   ]
  },
  {
   "cell_type": "code",
   "execution_count": null,
   "metadata": {},
   "outputs": [],
   "source": [
    "log_data.head(3)    # print the first 3 rows"
   ]
  },
  {
   "cell_type": "code",
   "execution_count": null,
   "metadata": {},
   "outputs": [],
   "source": [
    "log_data.index     # “the index” (aka “the labels”). \n",
    "#Pandas is great for using timeseries data, where the index can be the timestamps"
   ]
  },
  {
   "cell_type": "code",
   "execution_count": null,
   "metadata": {},
   "outputs": [],
   "source": [
    "log_data.columns   # column names (which is “an index”)"
   ]
  },
  {
   "cell_type": "code",
   "execution_count": null,
   "metadata": {},
   "outputs": [],
   "source": [
    "log_data.dtypes    # data types of each column"
   ]
  },
  {
   "cell_type": "code",
   "execution_count": null,
   "metadata": {},
   "outputs": [],
   "source": [
    "log_data.shape     # number of rows and columns"
   ]
  },
  {
   "cell_type": "code",
   "execution_count": null,
   "metadata": {},
   "outputs": [],
   "source": [
    "log_data.values    # underlying numpy array — df are stored as numpy arrays for effeciencies."
   ]
  },
  {
   "cell_type": "code",
   "execution_count": null,
   "metadata": {},
   "outputs": [],
   "source": [
    "#log_data['MajorLithCode']         # select one column\n",
    "##Equivalent to \n",
    "#log_data.MajorLithCode \n",
    "##and\n",
    "#log_data.iloc[:,9]"
   ]
  },
  {
   "cell_type": "code",
   "execution_count": null,
   "metadata": {},
   "outputs": [],
   "source": [
    "type(log_data['MajorLithCode'])   # determine datatype of column (e.g., Series)"
   ]
  },
  {
   "cell_type": "code",
   "execution_count": null,
   "metadata": {},
   "outputs": [],
   "source": [
    "#describe the data frame\n",
    "log_data.describe(include='all')     "
   ]
  },
  {
   "cell_type": "code",
   "execution_count": null,
   "metadata": {},
   "outputs": [],
   "source": [
    "# summarise a panda Series\n",
    "log_data.FromDepth.describe()   # describe a single column"
   ]
  },
  {
   "cell_type": "code",
   "execution_count": null,
   "metadata": {},
   "outputs": [],
   "source": [
    "#calculate mean of 5th column (\"FromDepth\")\n",
    "log_data.iloc[:,5].mean()      "
   ]
  },
  {
   "cell_type": "code",
   "execution_count": null,
   "metadata": {},
   "outputs": [],
   "source": [
    "#alternate method to calculate mean of FromDepth column (the 5th one)\n",
    "log_data[\"FromDepth\"].mean()    "
   ]
  },
  {
   "cell_type": "code",
   "execution_count": null,
   "metadata": {},
   "outputs": [],
   "source": [
    "#Count how many Lith Codes there are\n",
    "lithCounts=log_data.MajorLithCode.value_counts()"
   ]
  },
  {
   "cell_type": "code",
   "execution_count": null,
   "metadata": {},
   "outputs": [],
   "source": [
    "#Print the lithcodes, use .index or .values \n",
    "lithCounts"
   ]
  },
  {
   "cell_type": "code",
   "execution_count": null,
   "metadata": {},
   "outputs": [],
   "source": [
    "#plot a bar chart of the lith codes\n",
    "lithCounts.plot.bar(rot=90,figsize=(15,5))"
   ]
  },
  {
   "cell_type": "code",
   "execution_count": null,
   "metadata": {},
   "outputs": [],
   "source": [
    "#Plot a bar chart of the lith codes for the rarer lithologies\n",
    "lithCounts[(lithCounts < 50)].plot.bar(rot=90,figsize=(15,5))"
   ]
  },
  {
   "cell_type": "code",
   "execution_count": null,
   "metadata": {},
   "outputs": [],
   "source": [
    "import numpy as np\n",
    "import matplotlib.mlab as mlab\n",
    "import matplotlib.pyplot as plt\n",
    " \n",
    "# example data\n",
    "mu = np.mean(log_data['Thickness'].values) # mean of distribution\n",
    "sigma = np.std(log_data['Thickness'].values) # standard deviation of distribution\n",
    "x = log_data['Thickness'].values\n",
    "# the histogram of the data\n",
    "plt.hist(x, bins=[0,0.25,0.5,0.75,1.0,1.25,1.5,1.75,2,2.25,2.5,2.75,3.0], alpha=0.5)\n",
    "plt.xlabel('Thickness (m)')\n",
    "plt.ylabel('Count')\n",
    "mystring=\"Histogram with a mean of \"+ str(mu)\n",
    "plt.title(mystring)\n",
    " \n",
    "# Tweak spacing to prevent clipping of ylabel\n",
    "#plt.subplots_adjust(left=0.15)\n",
    "plt.show()\n",
    "\n",
    "\n"
   ]
  },
  {
   "cell_type": "code",
   "execution_count": null,
   "metadata": {},
   "outputs": [],
   "source": [
    "# import numpy as np\n",
    "# cmap = plt.get_cmap('viridis')\n",
    "# colors = cmap(np.linspace(0, 1, len(lithCounts.index)))\n",
    "# colors\n",
    "\n",
    "# for row in log_data.itertuples():\n",
    "#     boreid=row[3]\n",
    "#     for ind,value in enumerate(recs):  \n",
    "#         try:\n",
    "#             value.index(boreid)\n",
    "#             print(recs)\n",
    "#         except:\n",
    "#             continue\n",
    "#     #(row[3])\n",
    "\n",
    "\n",
    "\n",
    "# for ind, value in enumerate(recs):\n",
    "#     #Get the lat lon value\n",
    "#     lon=value[18]\n",
    "#     lat=value[17]\n",
    "#     #Get the Lithology unit\n",
    "#     value[]\n",
    "    \n",
    "#     #Now plot it\n",
    "#     plt.plot(lon,lat,\"|\")"
   ]
  }
 ],
 "metadata": {
  "kernelspec": {
   "display_name": "Python 3",
   "language": "python",
   "name": "python3"
  },
  "language_info": {
   "codemirror_mode": {
    "name": "ipython",
    "version": 3
   },
   "file_extension": ".py",
   "mimetype": "text/x-python",
   "name": "python",
   "nbconvert_exporter": "python",
   "pygments_lexer": "ipython3",
   "version": "3.6.6"
  }
 },
 "nbformat": 4,
 "nbformat_minor": 2
}
