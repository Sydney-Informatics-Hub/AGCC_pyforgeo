{
 "cells": [
  {
   "cell_type": "markdown",
   "metadata": {},
   "source": [
    "# Introduction to Python for Geoscientists\n",
    "\n",
    "This is a \"Jupyter Notebook\". Formerly an IPython Notebook. It is a good way to document workflows and analysis pipelines. You can have Python, R, Fortran, Julia, etc notebooks. This is a \"Markdown\" cell, you can write notes, equations in latex style, $E=\\kappa A ^m (\\nabla z)^n$, or embed figures. \n",
    "\n",
    "Today we are using a Python kernel to do some cool stuff with Geoscience data. The following cell is your first Python code"
   ]
  },
  {
   "cell_type": "code",
   "execution_count": null,
   "metadata": {},
   "outputs": [],
   "source": [
    "2+4*10"
   ]
  },
  {
   "cell_type": "code",
   "execution_count": null,
   "metadata": {},
   "outputs": [],
   "source": [
    "#This is a comment. This is for a human to read (so you remember what your code does!)\n",
    "#Python ignores anything behind the '#'.\n",
    "\n",
    "#The next line is an example of a 'variable'. Assign values using a single '=' sign.\n",
    "time=145"
   ]
  },
  {
   "cell_type": "code",
   "execution_count": null,
   "metadata": {},
   "outputs": [],
   "source": [
    "#Now you can use that variable in different ways.... firstly print it out to the screen\n",
    "print(\"The age of the sample is\", time, \" Million years\")"
   ]
  },
  {
   "cell_type": "code",
   "execution_count": null,
   "metadata": {},
   "outputs": [],
   "source": [
    "#Make a new variable called 'endtime' and add a constant to our 'time' variable\n",
    "endtime=time+56"
   ]
  },
  {
   "cell_type": "code",
   "execution_count": null,
   "metadata": {},
   "outputs": [],
   "source": [
    "#Nothing printed out above? Good. Jupyter Notebooks won't always do that so let's tell Python to print it.\n",
    "print(endtime)"
   ]
  },
  {
   "cell_type": "code",
   "execution_count": null,
   "metadata": {},
   "outputs": [],
   "source": [
    "#Make a new 'string' variable\n",
    "geological_age='Jurassic'\n",
    "\n",
    "#Print out some useful information that includes our different variables\n",
    "print(\"My sample is \", endtime, \" Million years old from the\", geological_age, \" age.\")"
   ]
  },
  {
   "cell_type": "code",
   "execution_count": null,
   "metadata": {},
   "outputs": [],
   "source": [
    "#Make a Python List object, similar to an array.\n",
    "times=[1,4.5,5+3.2,geological_age,\"Another string\"]\n",
    "\n",
    "print(times)\n",
    "\n",
    "#There are many different types of data types and objects: \n",
    "#int, long, float, complex, String, Lists, Tuple, Dictionary, functions, etc"
   ]
  },
  {
   "cell_type": "code",
   "execution_count": null,
   "metadata": {},
   "outputs": [],
   "source": [
    "#indexing\n",
    "print(times[0])"
   ]
  },
  {
   "cell_type": "code",
   "execution_count": null,
   "metadata": {},
   "outputs": [],
   "source": [
    "print(times[4])"
   ]
  },
  {
   "cell_type": "markdown",
   "metadata": {},
   "source": [
    "That is the basics. Now we are going to load in some data and manipulate it.\n",
    "\n",
    "## Loading data"
   ]
  },
  {
   "cell_type": "code",
   "execution_count": null,
   "metadata": {},
   "outputs": [],
   "source": [
    "#First we have to load some modules to do the work for us.\n",
    "#Modules are packages people have written so we do not have to re-invent everything!\n",
    "\n",
    "#The first is NUMerical PYthon. A very popular matrix, math, array and data manipulation library.\n",
    "import numpy\n",
    "\n",
    "#Pandas is a module that is great for dealing with tables of data\n",
    "import pandas\n",
    "\n",
    "#This is a library for making figures (orignally based off Matlab plotting routines)\n",
    "#We use the alias 'plt' because we don't want to type out the whole name everytime we reference it!\n",
    "import matplotlib.pyplot as plt "
   ]
  },
  {
   "cell_type": "code",
   "execution_count": null,
   "metadata": {},
   "outputs": [],
   "source": [
    "#Set the variable name for the file we are loading in. \n",
    "#It is in the 'data' directory, and the file is called EarthChemCU.txt. \n",
    "#We are currently working in /examples.\n",
    "filename = '../data/EarthChemCU.txt'\n",
    "\n",
    "#Now read in the data\n",
    "chemdata=numpy.loadtxt(filename, delimiter=',')\n",
    "#chemdata <- the name of a variable we are making that will hold the table of data\n",
    "#filename <- this is the name of the variable we declared above\n",
    "#delimiter <- this is a csv file"
   ]
  },
  {
   "cell_type": "markdown",
   "metadata": {},
   "source": [
    "### Want more details about a command/function we use?"
   ]
  },
  {
   "cell_type": "code",
   "execution_count": null,
   "metadata": {
    "scrolled": true
   },
   "outputs": [],
   "source": [
    "#Try this help command\n",
    "help(numpy.loadtxt)"
   ]
  },
  {
   "cell_type": "markdown",
   "metadata": {},
   "source": [
    "### It is often a good idea to look at the data to have some idea with what you are working with"
   ]
  },
  {
   "cell_type": "code",
   "execution_count": null,
   "metadata": {},
   "outputs": [],
   "source": [
    "#What does the data look like. Print it out\n",
    "print(chemdata)"
   ]
  },
  {
   "cell_type": "code",
   "execution_count": null,
   "metadata": {},
   "outputs": [],
   "source": [
    "#This is in the style: Latitude, Longitude(-180:180), Age(Ma), pp\n",
    "#Print the dimensions of the data\n",
    "print(chemdata.shape)"
   ]
  },
  {
   "cell_type": "markdown",
   "metadata": {},
   "source": [
    "207431 rows! A good example for why we use Python and not something like Excel."
   ]
  },
  {
   "cell_type": "code",
   "execution_count": null,
   "metadata": {},
   "outputs": [],
   "source": [
    "#Print the first row\n",
    "print(chemdata[0,:])"
   ]
  },
  {
   "cell_type": "code",
   "execution_count": null,
   "metadata": {},
   "outputs": [],
   "source": [
    "#Print the third column. Note, Python counts from 0\n",
    "print(chemdata[:,2])"
   ]
  },
  {
   "cell_type": "code",
   "execution_count": null,
   "metadata": {},
   "outputs": [],
   "source": [
    "#Print the first two columns for row id 2, 5 and 6. \n",
    "print(chemdata[[2,5,6],0:2])"
   ]
  },
  {
   "cell_type": "code",
   "execution_count": null,
   "metadata": {},
   "outputs": [],
   "source": [
    "#Plot the lats and lons, i.e. the first column vs the second column\n",
    "plt.plot(chemdata[:,1],chemdata[:,0],'k.')\n",
    "plt.title('Copper Deposit Data')\n",
    "plt.ylabel('Latitude')\n",
    "plt.xlabel('Longitude')\n",
    "plt.show()"
   ]
  },
  {
   "cell_type": "markdown",
   "metadata": {},
   "source": [
    "This does not look right... It is a messy dataset! This is not uncommon. \n",
    "Maybe the Lats/Lons are stored as Norhtings/Eastings for some samples. \n",
    "Maybe they are missing a decimal place.\n",
    "\n",
    "Anyway, Python is a great tool to clean things up! Let's investigate further."
   ]
  },
  {
   "cell_type": "code",
   "execution_count": null,
   "metadata": {},
   "outputs": [],
   "source": [
    "#Plot the Latitudes\n",
    "plt.plot(chemdata[:,0])\n",
    "plt.ylabel('Latitude')\n",
    "plt.xlabel('Number')\n",
    "plt.show()\n",
    "\n",
    "#Plot the Longitudes\n",
    "plt.plot(chemdata[:,1],'r')\n",
    "plt.ylabel('Longitude')\n",
    "plt.xlabel('Number')\n",
    "plt.show()"
   ]
  },
  {
   "cell_type": "code",
   "execution_count": null,
   "metadata": {},
   "outputs": [],
   "source": [
    "#Clean up the data, remove anything outside lat lon extent\n",
    "\n",
    "#Find all the \"chemdata\" column 1 (i.e. longitude) data points that are greater than -180, save it in a new variable\n",
    "cudata=chemdata[chemdata[:,1]>-180]\n",
    "#Repeat for less than 180\n",
    "cudata2=cudata[cudata[:,1]<180]\n",
    "\n",
    "#Repeat for latitudes less than 90\n",
    "cudata3=cudata2[cudata2[:,0]<90]\n",
    "#Repeat for greater than -90\n",
    "cudata4=cudata3[cudata3[:,0]>-90]\n",
    "\n",
    "print(\"We have removed\", chemdata.shape[0]-cudata4.shape[0], \"samples\")"
   ]
  },
  {
   "cell_type": "code",
   "execution_count": null,
   "metadata": {},
   "outputs": [],
   "source": [
    "plt.plot(cudata4[:,1],cudata4[:,0],'k.')\n",
    "plt.title('Copper Deposits from EarthChem.org')\n",
    "plt.ylabel('Latitude')\n",
    "plt.xlabel('Longitude')\n",
    "plt.show()\n"
   ]
  },
  {
   "cell_type": "code",
   "execution_count": null,
   "metadata": {},
   "outputs": [],
   "source": [
    "#Let's make a nicer map\n",
    "\n",
    "#Import another module called Basemap - great for plotting things on globes\n",
    "from mpl_toolkits.basemap import Basemap\n",
    "from sklearn import preprocessing\n",
    "\n",
    "#Make new variables from our array (so it is easier to see what we are doing)\n",
    "lats=cudata4[:,0]\n",
    "longs=cudata4[:,1]\n",
    "age=cudata4[:,3]\n",
    "\n",
    "#######\n",
    "## Make the figure\n",
    "#######\n",
    "\n",
    "#Create a figure object\n",
    "fig = plt.figure(figsize=(16,12),dpi=150)\n",
    "\n",
    "#Make the basemap, shade it and put down some other map symbols\n",
    "pmap = Basemap(projection='hammer', lat_0=0, lon_0=0, #You can break loooong commands over multiple lines\n",
    "           resolution='l')\n",
    "pmap.drawmapboundary(fill_color='white')\n",
    "pmap.fillcontinents(color='grey', lake_color='white', zorder=0)\n",
    "pmap.drawmeridians(numpy.arange(0, 360, 30))\n",
    "pmap.drawparallels(numpy.arange(-90, 90, 30))\n",
    "\n",
    "#compute native map projection coordinates of lat/lon grid.\n",
    "xh, yh = pmap(longs, lats)\n",
    "\n",
    "#Make a scatter plot of the data coloured by age. Restrict the colour range between 0 and 2000\n",
    "#And also set the 'plot' as a variable so we can reference it\n",
    "mapscat = pmap.scatter(xh,yh,marker=\".\",c=age,vmin=0,vmax=100)\n",
    "\n",
    "#Add a colourbar, \n",
    "cbar=pmap.colorbar(mapscat,location='bottom')\n",
    "cbar.set_label('Age (Ma)')\n",
    "\n",
    "# Add a map title, and tell the figure to appear on screen\n",
    "plt.title('Age of Copper Deposits in the EarthChem.org database')\n",
    "plt.show()"
   ]
  },
  {
   "cell_type": "code",
   "execution_count": null,
   "metadata": {},
   "outputs": [],
   "source": []
  },
  {
   "cell_type": "code",
   "execution_count": null,
   "metadata": {},
   "outputs": [],
   "source": []
  }
 ],
 "metadata": {
  "kernelspec": {
   "display_name": "Python 3",
   "language": "python",
   "name": "python3"
  },
  "language_info": {
   "codemirror_mode": {
    "name": "ipython",
    "version": 3
   },
   "file_extension": ".py",
   "mimetype": "text/x-python",
   "name": "python",
   "nbconvert_exporter": "python",
   "pygments_lexer": "ipython3",
   "version": "3.6.6"
  }
 },
 "nbformat": 4,
 "nbformat_minor": 2
}
