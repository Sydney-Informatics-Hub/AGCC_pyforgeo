{
 "cells": [
  {
   "cell_type": "markdown",
   "metadata": {},
   "source": [
    "This is a Jupyter Notebook. Formerly an IPython Notebook. It is a good way to document workflows. You can have Python, R, Fortran, etc notebooks. Today we are using a Python kernel to do some cool stuff with Geoscience data. The following cell is your first Python code"
   ]
  },
  {
   "cell_type": "code",
   "execution_count": 18,
   "metadata": {},
   "outputs": [
    {
     "data": {
      "text/plain": [
       "42"
      ]
     },
     "execution_count": 18,
     "metadata": {},
     "output_type": "execute_result"
    }
   ],
   "source": [
    "2+4*10"
   ]
  },
  {
   "cell_type": "code",
   "execution_count": 9,
   "metadata": {},
   "outputs": [],
   "source": [
    "#This is a comment. This is for a human to read (so you remember what your code does!)\n",
    "#Python ignores anything behind the '#'.\n",
    "\n",
    "#The next line is an example of a 'variable'. Assign values using a single '=' sign.\n",
    "time=145"
   ]
  },
  {
   "cell_type": "code",
   "execution_count": 19,
   "metadata": {},
   "outputs": [
    {
     "name": "stdout",
     "output_type": "stream",
     "text": [
      "The age of the sample is 145  Million years\n"
     ]
    }
   ],
   "source": [
    "#Now you can use that variable in different ways.... firstly print it out to the screen\n",
    "print(\"The age of the sample is\", time, \" Million years\")"
   ]
  },
  {
   "cell_type": "code",
   "execution_count": 39,
   "metadata": {},
   "outputs": [],
   "source": [
    "#Make a new variable called 'endtime' and add a constant to our 'time' variable\n",
    "endtime=time+56"
   ]
  },
  {
   "cell_type": "code",
   "execution_count": 40,
   "metadata": {},
   "outputs": [
    {
     "name": "stdout",
     "output_type": "stream",
     "text": [
      "201\n"
     ]
    }
   ],
   "source": [
    "#Nothing printed out above? Good. Jupyter Notebooks won't always do that so let's tell Python to print it.\n",
    "print(endtime)"
   ]
  },
  {
   "cell_type": "code",
   "execution_count": 41,
   "metadata": {},
   "outputs": [
    {
     "name": "stdout",
     "output_type": "stream",
     "text": [
      "My sample is  201  Million years old from the Jurassic  age.\n"
     ]
    }
   ],
   "source": [
    "#Make a new 'string' variable\n",
    "geological_age='Jurassic'\n",
    "\n",
    "#Print out some useful information that includes our different variables\n",
    "print(\"My sample is \", endtime, \" Million years old from the\", geological_age, \" age.\")"
   ]
  },
  {
   "cell_type": "code",
   "execution_count": 84,
   "metadata": {},
   "outputs": [
    {
     "name": "stdout",
     "output_type": "stream",
     "text": [
      "[1, 4, 5, 'Jurassic']\n"
     ]
    }
   ],
   "source": [
    "times=[1,4,5,geological_age]\n",
    "\n",
    "print(times)"
   ]
  },
  {
   "cell_type": "markdown",
   "metadata": {},
   "source": [
    "## Loading data"
   ]
  },
  {
   "cell_type": "code",
   "execution_count": 52,
   "metadata": {},
   "outputs": [],
   "source": [
    "#First we have to load some modules to do the work for us.\n",
    "#Modules are packages people have written so we do not have to re-invent everything!\n",
    "\n",
    "#The first is NUMerical PYthon. A very popular matrix, math, array and data manipulation library.\n",
    "import numpy\n",
    "\n",
    "#Pandas is a module that is great for dealing with tables of data\n",
    "import pandas\n",
    "\n",
    "#This is a library for making figures (orignally based off Matlab plotting routines)\n",
    "#We use  this alias 'plt' because we don't want to type out the whole name everytime we reference it!\n",
    "import matplotlib.pyplot as plt "
   ]
  },
  {
   "cell_type": "code",
   "execution_count": 46,
   "metadata": {},
   "outputs": [],
   "source": [
    "#Set the variable name for the file we are loading in. \n",
    "#It is in the 'data' directory, and the file is called EarthQuery.txt\n",
    "\n",
    "filename = '../EarthChemCU.txt'\n",
    "#filename = '../data/EarthQuery.txt'\n",
    "\n",
    "#Now read in the data\n",
    "\n",
    "chemdata=numpy.loadtxt(filename, delimiter=',')\n",
    "#chemdata <- the name of a variable we are making that will hold the table of data\n",
    "#filename <- this is the name of the variable we declared above\n",
    "\n",
    "#chemdata=pandas.read_csv(filename, sep='\\t')\n",
    "#chemdata <- the name of a variable we are making that will hold the table of data\n",
    "#pandas.read_csv <- name of the function we are using from the pandas library\n",
    "#filename <- this is the name of the variable we declared above\n",
    "#sep='\\t' <- We are telling pandas that the table is separated by tabs\n",
    "#skipinitialspace=True <-this data has some headers we don't need to read in, so skip the first few lines."
   ]
  },
  {
   "cell_type": "code",
   "execution_count": 78,
   "metadata": {},
   "outputs": [
    {
     "name": "stdout",
     "output_type": "stream",
     "text": [
      "[[ 3.92583e+01 -1.14992e+02  1.11000e+02  1.96000e+04]\n",
      " [ 3.92583e+01 -1.14992e+02  1.11000e+02  1.57000e+04]\n",
      " [ 4.12060e+01 -1.17272e+02  1.05000e+02  3.00000e+00]\n",
      " ...\n",
      " [ 2.00530e+01  1.17419e+02  0.00000e+00  3.00000e+01]\n",
      " [ 2.00530e+01  1.17419e+02  0.00000e+00  3.30000e+01]\n",
      " [ 2.00530e+01  1.17419e+02  0.00000e+00  3.50000e+01]]\n"
     ]
    }
   ],
   "source": [
    "#What does the data look like. Print it out\n",
    "print(chemdata)"
   ]
  },
  {
   "cell_type": "code",
   "execution_count": 79,
   "metadata": {},
   "outputs": [
    {
     "name": "stdout",
     "output_type": "stream",
     "text": [
      "(207431, 4)\n"
     ]
    }
   ],
   "source": [
    "#Print the dimensions of the data\n",
    "print(chemdata.shape)"
   ]
  },
  {
   "cell_type": "code",
   "execution_count": 80,
   "metadata": {},
   "outputs": [
    {
     "name": "stdout",
     "output_type": "stream",
     "text": [
      "[   39.2583  -114.992    111.     19600.    ]\n"
     ]
    }
   ],
   "source": [
    "#Print the first row\n",
    "print(chemdata[0,:])"
   ]
  },
  {
   "cell_type": "code",
   "execution_count": 81,
   "metadata": {},
   "outputs": [
    {
     "name": "stdout",
     "output_type": "stream",
     "text": [
      "[111. 111. 105. ...   0.   0.   0.]\n"
     ]
    }
   ],
   "source": [
    "#Print the third column. Note, Python counts from 0\n",
    "print(chemdata[:,2])"
   ]
  },
  {
   "cell_type": "code",
   "execution_count": 82,
   "metadata": {},
   "outputs": [
    {
     "name": "stdout",
     "output_type": "stream",
     "text": [
      "[[  41.206 -117.272]\n",
      " [  41.186 -117.417]\n",
      " [  41.177 -117.485]]\n"
     ]
    }
   ],
   "source": [
    "#Print the first two columns for row id 2, 5 and 6. \n",
    "print(chemdata[[2,5,6],0:2])"
   ]
  },
  {
   "cell_type": "code",
   "execution_count": 61,
   "metadata": {},
   "outputs": [
    {
     "data": {
      "text/plain": [
       "[<matplotlib.lines.Line2D at 0x2f417fac8>]"
      ]
     },
     "execution_count": 61,
     "metadata": {},
     "output_type": "execute_result"
    },
    {
     "data": {
      "image/png": "[encoded data removed]",
      "text/plain": [
       "<Figure size 432x288 with 1 Axes>"
      ]
     },
     "metadata": {},
     "output_type": "display_data"
    }
   ],
   "source": [
    "plt.plot(chemdata[:,0],chemdata[:,1],'k.')"
   ]
  },
  {
   "cell_type": "code",
   "execution_count": 96,
   "metadata": {},
   "outputs": [
    {
     "ename": "IndexError",
     "evalue": "boolean index did not match indexed array along dimension 0; dimension is 1 but corresponding boolean dimension is 4",
     "output_type": "error",
     "traceback": [
      "\u001b[0;31m---------------------------------------------------------------------------\u001b[0m",
      "\u001b[0;31mIndexError\u001b[0m                                Traceback (most recent call last)",
      "\u001b[0;32m<ipython-input-96-f133a00b8d19>\u001b[0m in \u001b[0;36m<module>\u001b[0;34m()\u001b[0m\n\u001b[1;32m      1\u001b[0m \u001b[0mcudata\u001b[0m\u001b[0;34m=\u001b[0m\u001b[0mchemdata\u001b[0m\u001b[0;34m[\u001b[0m\u001b[0;34m(\u001b[0m\u001b[0mchemdata\u001b[0m\u001b[0;34m[\u001b[0m\u001b[0;34m:\u001b[0m\u001b[0;34m,\u001b[0m\u001b[0;36m1\u001b[0m\u001b[0;34m]\u001b[0m\u001b[0;34m>\u001b[0m\u001b[0;34m-\u001b[0m\u001b[0;36m180\u001b[0m\u001b[0;34m)\u001b[0m\u001b[0;34m.\u001b[0m\u001b[0many\u001b[0m\u001b[0;34m(\u001b[0m\u001b[0maxis\u001b[0m\u001b[0;34m=\u001b[0m\u001b[0;36m0\u001b[0m\u001b[0;34m)\u001b[0m\u001b[0;34m]\u001b[0m\u001b[0;34m\u001b[0m\u001b[0m\n\u001b[0;32m----> 2\u001b[0;31m \u001b[0mcudata2\u001b[0m\u001b[0;34m=\u001b[0m\u001b[0mcudata\u001b[0m\u001b[0;34m[\u001b[0m\u001b[0;34m(\u001b[0m\u001b[0mcudata\u001b[0m\u001b[0;34m[\u001b[0m\u001b[0;34m:\u001b[0m\u001b[0;34m,\u001b[0m\u001b[0;36m1\u001b[0m\u001b[0;34m]\u001b[0m\u001b[0;34m<\u001b[0m\u001b[0;36m180\u001b[0m\u001b[0;34m)\u001b[0m\u001b[0;34m.\u001b[0m\u001b[0many\u001b[0m\u001b[0;34m(\u001b[0m\u001b[0maxis\u001b[0m\u001b[0;34m=\u001b[0m\u001b[0;36m0\u001b[0m\u001b[0;34m)\u001b[0m\u001b[0;34m]\u001b[0m\u001b[0;34m\u001b[0m\u001b[0m\n\u001b[0m\u001b[1;32m      3\u001b[0m \u001b[0mprint\u001b[0m\u001b[0;34m(\u001b[0m\u001b[0mcudata\u001b[0m\u001b[0;34m)\u001b[0m\u001b[0;34m\u001b[0m\u001b[0m\n",
      "\u001b[0;31mIndexError\u001b[0m: boolean index did not match indexed array along dimension 0; dimension is 1 but corresponding boolean dimension is 4"
     ]
    }
   ],
   "source": [
    "cudata=chemdata[(chemdata[:,1]>-180).any(axis=0)]\n",
    "cudata2=cudata[(cudata[:,1]<180).any(axis=0)]\n",
    "print(cudata)"
   ]
  },
  {
   "cell_type": "code",
   "execution_count": 92,
   "metadata": {},
   "outputs": [
    {
     "data": {
      "text/plain": [
       "[<matplotlib.lines.Line2D at 0x2eba2e748>,\n",
       " <matplotlib.lines.Line2D at 0x2eba2e8d0>,\n",
       " <matplotlib.lines.Line2D at 0x2eba2ea20>,\n",
       " <matplotlib.lines.Line2D at 0x2eba2eb70>]"
      ]
     },
     "execution_count": 92,
     "metadata": {},
     "output_type": "execute_result"
    },
    {
     "data": {
      "image/png": "[encoded data removed]",
      "text/plain": [
       "<Figure size 432x288 with 1 Axes>"
      ]
     },
     "metadata": {},
     "output_type": "display_data"
    }
   ],
   "source": [
    "plt.plot(cudata[:,0],cudata[:,1],'k.')"
   ]
  },
  {
   "cell_type": "code",
   "execution_count": null,
   "metadata": {},
   "outputs": [],
   "source": []
  }
 ],
 "metadata": {
  "kernelspec": {
   "display_name": "Python 3",
   "language": "python",
   "name": "python3"
  },
  "language_info": {
   "codemirror_mode": {
    "name": "ipython",
    "version": 3
   },
   "file_extension": ".py",
   "mimetype": "text/x-python",
   "name": "python",
   "nbconvert_exporter": "python",
   "pygments_lexer": "ipython3",
   "version": "3.6.5"
  }
 },
 "nbformat": 4,
 "nbformat_minor": 2
}
